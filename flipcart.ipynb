{
 "cells": [
  {
   "cell_type": "code",
   "execution_count": null,
   "id": "3d46cb26-406d-4572-a8a2-dee6fa7d13bd",
   "metadata": {},
   "outputs": [],
   "source": [
    "import requests\n",
    "!pip install selenium\n",
    "from bs4 import BeautifulSoup\n",
    "from selenium import webdriver\n",
    "from selenium.webdriver.common.by import By\n",
    "from selenium.webdriver.common.keys import Keys\n",
    "driver=webdriver.Chrome()\n",
    "driver.get(\"https://www.flipkart.com/\")"
   ]
  },
  {
   "cell_type": "code",
   "execution_count": null,
   "id": "7c045785-beb8-42c1-9cbb-97357faabcc5",
   "metadata": {},
   "outputs": [],
   "source": [
    "search=driver.find_element(By.XPATH,'/html/body/div[1]/div/div[1]/div/div/div/div/div[1]/div/div/div/div[1]/div[1]/header/div[1]/div[2]/form/div/div/input')\n",
    "search.send_keys(\"washing machines\")\n",
    "search.send_keys(Keys.ENTER)"
   ]
  },
  {
   "cell_type": "code",
   "execution_count": 19,
   "id": "4286b285-55d4-42fb-a9f5-91d3a3a9f3a7",
   "metadata": {},
   "outputs": [
    {
     "name": "stdout",
     "output_type": "stream",
     "text": [
      "['https://www.flipkart.com/whirlpool-8-kg-fully-automatic-top-load-washing-machine-in-built-heater-grey/p/itm9fe0dcaaaf7bf?pid=WMNGVNUZPFXRCJAZ&lid=LSTWMNGVNUZPFXRCJAZG5NXJR&marketplace=FLIPKART&q=washing+machines&store=j9e%2Fabm%2F8qx&srno=s_1_1&otracker=search&otracker1=search&fm=Search&iid=en_CB8kHFMA371n3DsNk8e4vWaqHCT9lX1Hs1Ue7Tky8wGeErCn5rDnQ9Ch25QFJNOtmzbvtV_ddn08lZlQMeAf0fUFjCTyOHoHZs-Z5_PS_w0%3D&ppt=sp&ppn=sp&ssid=a32cglj7pc0000001732883352798&qH=bcadf718d561cab9', 'https://www.flipkart.com/panasonic-7-kg-fully-automatic-top-load-washing-machine-black-grey/p/itm3ff59bf50a606?pid=WMNGY5MNFVXGNFNQ&lid=LSTWMNGY5MNFVXGNFNQWT1MCM&marketplace=FLIPKART&q=washing+machines&store=j9e%2Fabm%2F8qx&srno=s_1_2&otracker=search&otracker1=search&fm=Search&iid=en_CB8kHFMA371n3DsNk8e4vWaqHCT9lX1Hs1Ue7Tky8wFR3UMJ145gAt3sBKVXiOeLQQ6Qlj-Pyc_vrf0CBt3AiIQEIsITtCzc4bHaOMTqL08%3D&ppt=sp&ppn=sp&ssid=a32cglj7pc0000001732883352798&qH=bcadf718d561cab9', 'https://www.flipkart.com/whirlpool-7-kg-magic-clean-5-star-fully-automatic-top-load-washing-machine-grey/p/itm50fdb8ca1e478?pid=WMNGDSUXZS5BWH7H&lid=LSTWMNGDSUXZS5BWH7HJAJBFH&marketplace=FLIPKART&q=washing+machines&store=j9e%2Fabm%2F8qx&srno=s_1_3&otracker=search&otracker1=search&fm=Search&iid=0fa0c242-9659-4db9-bcd8-ab2ccde29a6b.WMNGDSUXZS5BWH7H.SEARCH&ppt=sp&ppn=sp&ssid=a32cglj7pc0000001732883352798&qH=bcadf718d561cab9']\n"
     ]
    }
   ],
   "source": [
    "import time\n",
    "links=[]\n",
    "data=driver.find_elements(By.CLASS_NAME,'CGtC98')\n",
    "for i in data:\n",
    "     links.append(i.get_attribute(\"href\"))\n",
    "button=driver.find_element(By.XPATH,'//*[@class=\"_9QVEpD\"]')\n",
    "button.click()\n",
    "time.sleep(2)\n",
    "for i in range(19):\n",
    "    data=driver.find_elements(By.CLASS_NAME,'CGtC98')\n",
    "    for i in data:\n",
    "        links.append(i.get_attribute(\"href\"))\n",
    "    button=driver.find_element(By.XPATH,'//*[@class=\"_9QVEpD\"][2]')\n",
    "    button.click()\n",
    "    time.sleep(2)\n",
    "print(links[0:3])"
   ]
  },
  {
   "cell_type": "code",
   "execution_count": 20,
   "id": "d1c785a6-3060-435a-a4c0-37e87a221ab1",
   "metadata": {},
   "outputs": [
    {
     "name": "stdout",
     "output_type": "stream",
     "text": [
      "480\n"
     ]
    }
   ],
   "source": [
    "print(len(links))"
   ]
  },
  {
   "cell_type": "code",
   "execution_count": 27,
   "id": "a4f96d09-8a1b-4857-8c52-76ada37d6d56",
   "metadata": {},
   "outputs": [],
   "source": [
    "#COLUMNS LISTS\n",
    "prices=[]\n",
    "discounts=[]\n",
    "ratings=[]\n",
    "stars=[]"
   ]
  },
  {
   "cell_type": "code",
   "execution_count": 28,
   "id": "5cc3fe65-557e-44a3-b21e-e8e9209007a9",
   "metadata": {},
   "outputs": [],
   "source": [
    "brands=[]\n",
    "eng_rating=[]\n",
    "capacity=[]\n",
    "max_spin_speed=[]"
   ]
  },
  {
   "cell_type": "code",
   "execution_count": 29,
   "id": "915f96d7-c521-41f5-a458-e3da7d31cbe5",
   "metadata": {},
   "outputs": [],
   "source": [
    "for i in links:\n",
    "    driver.get(i)\n",
    "    time.sleep(2)\n",
    "    try:\n",
    "        prices.append(driver.find_element(By.XPATH,'//*[@class=\"hl05eU\"]//*[@class=\"Nx9bqj CxhGGd\"]').text)\n",
    "    except:\n",
    "        prices.append(None)\n",
    "    try:\n",
    "        discounts.append(driver.find_element(By.XPATH,'//*[@class=\"UkUFwK WW8yVX\"]//span').text)\n",
    "    except:\n",
    "        discounts.append(None)\n",
    "    try:\n",
    "        ratings.append(driver.find_element(By.XPATH,'//*[@class=\"Wphh3N\"]//span//span').text)\n",
    "    except:\n",
    "        ratings.append(None)\n",
    "    try:\n",
    "        stars.append(driver.find_element(By.XPATH,'//*[@id=\"productRating_LSTWMNH25C2HKKSJ5DPFZ8RPZ_WMNH25C2HKKSJ5DP_\"]/div').text)\n",
    "    except:\n",
    "        stars.append(None)\n",
    "    time.sleep(5)\n",
    "    button=driver.find_element(By.XPATH,'//*[@class=\"_3Fm-hO\"]//div//button')\n",
    "    button.click()\n",
    "    try:\n",
    "        brands.append(driver.find_element(By.XPATH,'//*[@class=\"_0ZhAN9\"]//tbody//tr[2]//td//ul//li').text)\n",
    "    except:\n",
    "        brands.append(None)\n",
    "    try:\n",
    "        eng_rating.append(driver.find_element(By.XPATH,'//*[@class=\"_0ZhAN9\"]//tr[5]//ul//li').text)\n",
    "    except:\n",
    "        eng_rating.append(None)\n",
    "    try:\n",
    "        capacity.append(driver.find_element(By.XPATH,'//*[@class=\"_0ZhAN9\"]//tr[6]//ul//li').text)\n",
    "    except:\n",
    "        capacity.append(None)\n",
    "    try:\n",
    "        max_spin_speed.append(driver.find_element(By.XPATH,'//*[@class=\"_0ZhAN9\"]//tr[8]//ul//li').text)\n",
    "    except:\n",
    "        max_spin_speed.append(None)"
   ]
  },
  {
   "cell_type": "code",
   "execution_count": 30,
   "id": "2b39fc02-678e-43bb-a703-2329a43d0cf7",
   "metadata": {},
   "outputs": [
    {
     "data": {
      "text/html": [
       "<div>\n",
       "<style scoped>\n",
       "    .dataframe tbody tr th:only-of-type {\n",
       "        vertical-align: middle;\n",
       "    }\n",
       "\n",
       "    .dataframe tbody tr th {\n",
       "        vertical-align: top;\n",
       "    }\n",
       "\n",
       "    .dataframe thead th {\n",
       "        text-align: right;\n",
       "    }\n",
       "</style>\n",
       "<table border=\"1\" class=\"dataframe\">\n",
       "  <thead>\n",
       "    <tr style=\"text-align: right;\">\n",
       "      <th></th>\n",
       "      <th>stars</th>\n",
       "      <th>ratings</th>\n",
       "      <th>discounts</th>\n",
       "      <th>prices</th>\n",
       "      <th>brand</th>\n",
       "      <th>energy_rating</th>\n",
       "      <th>capacity</th>\n",
       "      <th>max_spin_speed</th>\n",
       "    </tr>\n",
       "  </thead>\n",
       "  <tbody>\n",
       "    <tr>\n",
       "      <th>0</th>\n",
       "      <td>None</td>\n",
       "      <td>24,972 Ratings</td>\n",
       "      <td>23% off</td>\n",
       "      <td>₹18,790</td>\n",
       "      <td>Whirlpool</td>\n",
       "      <td>5</td>\n",
       "      <td>8 kg</td>\n",
       "      <td>740 rpm</td>\n",
       "    </tr>\n",
       "    <tr>\n",
       "      <th>1</th>\n",
       "      <td>None</td>\n",
       "      <td>11,841 Ratings</td>\n",
       "      <td>39% off</td>\n",
       "      <td>₹15,490</td>\n",
       "      <td>Panasonic</td>\n",
       "      <td>5</td>\n",
       "      <td>7 kg</td>\n",
       "      <td>700 rpm</td>\n",
       "    </tr>\n",
       "    <tr>\n",
       "      <th>2</th>\n",
       "      <td>None</td>\n",
       "      <td>24,972 Ratings</td>\n",
       "      <td>24% off</td>\n",
       "      <td>₹14,590</td>\n",
       "      <td>Whirlpool</td>\n",
       "      <td>5</td>\n",
       "      <td>7 kg</td>\n",
       "      <td>740 rpm</td>\n",
       "    </tr>\n",
       "    <tr>\n",
       "      <th>3</th>\n",
       "      <td>None</td>\n",
       "      <td>22,205 Ratings</td>\n",
       "      <td>25% off</td>\n",
       "      <td>₹12,890</td>\n",
       "      <td>Whirlpool</td>\n",
       "      <td>5</td>\n",
       "      <td>8.5 kg</td>\n",
       "      <td>1400 rpm</td>\n",
       "    </tr>\n",
       "    <tr>\n",
       "      <th>4</th>\n",
       "      <td>None</td>\n",
       "      <td>37,103 Ratings</td>\n",
       "      <td>19% off</td>\n",
       "      <td>₹11,490</td>\n",
       "      <td>LG</td>\n",
       "      <td>5</td>\n",
       "      <td>7 kg</td>\n",
       "      <td>1350 rpm</td>\n",
       "    </tr>\n",
       "  </tbody>\n",
       "</table>\n",
       "</div>"
      ],
      "text/plain": [
       "  stars          ratings discounts   prices      brand energy_rating capacity  \\\n",
       "0  None  24,972 Ratings    23% off  ₹18,790  Whirlpool             5     8 kg   \n",
       "1  None  11,841 Ratings    39% off  ₹15,490  Panasonic             5     7 kg   \n",
       "2  None  24,972 Ratings    24% off  ₹14,590  Whirlpool             5     7 kg   \n",
       "3  None  22,205 Ratings    25% off  ₹12,890  Whirlpool             5   8.5 kg   \n",
       "4  None  37,103 Ratings    19% off  ₹11,490         LG             5     7 kg   \n",
       "\n",
       "  max_spin_speed  \n",
       "0        740 rpm  \n",
       "1        700 rpm  \n",
       "2        740 rpm  \n",
       "3       1400 rpm  \n",
       "4       1350 rpm  "
      ]
     },
     "execution_count": 30,
     "metadata": {},
     "output_type": "execute_result"
    }
   ],
   "source": [
    "import pandas as pd\n",
    "df=pd.DataFrame({\"stars\":stars,\"ratings\":ratings,\"discounts\":discounts,\"prices\":prices,\"brand\":brands,\"energy_rating\":eng_rating,\"capacity\":capacity,\"max_spin_speed\":max_spin_speed})\n",
    "df.head()"
   ]
  },
  {
   "cell_type": "code",
   "execution_count": 31,
   "id": "47241459-1115-4389-a440-798fd9e3eba6",
   "metadata": {},
   "outputs": [
    {
     "data": {
      "text/plain": [
       "419"
      ]
     },
     "execution_count": 31,
     "metadata": {},
     "output_type": "execute_result"
    }
   ],
   "source": [
    "mask=df[\"capacity\"].apply(lambda x:len(x)<7)\n",
    "len(df[mask])"
   ]
  },
  {
   "cell_type": "code",
   "execution_count": 32,
   "id": "40cfa7e8-897e-41c8-ae1f-59fcb38af155",
   "metadata": {},
   "outputs": [],
   "source": [
    "df3=df[mask]\n",
    "df3.to_csv(\"washing_machine_fc.csv\")"
   ]
  },
  {
   "cell_type": "code",
   "execution_count": null,
   "id": "37185418-e1de-453e-b7d3-1551880e63f5",
   "metadata": {},
   "outputs": [],
   "source": []
  }
 ],
 "metadata": {
  "kernelspec": {
   "display_name": "Python 3 (ipykernel)",
   "language": "python",
   "name": "python3"
  },
  "language_info": {
   "codemirror_mode": {
    "name": "ipython",
    "version": 3
   },
   "file_extension": ".py",
   "mimetype": "text/x-python",
   "name": "python",
   "nbconvert_exporter": "python",
   "pygments_lexer": "ipython3",
   "version": "3.12.4"
  }
 },
 "nbformat": 4,
 "nbformat_minor": 5
}

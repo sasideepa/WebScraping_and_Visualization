{
 "cells": [
  {
   "cell_type": "code",
   "execution_count": 1,
   "id": "e8f5e5e4-350a-486c-803f-0168f9c44ef7",
   "metadata": {},
   "outputs": [
    {
     "data": {
      "text/html": [
       "<div>\n",
       "<style scoped>\n",
       "    .dataframe tbody tr th:only-of-type {\n",
       "        vertical-align: middle;\n",
       "    }\n",
       "\n",
       "    .dataframe tbody tr th {\n",
       "        vertical-align: top;\n",
       "    }\n",
       "\n",
       "    .dataframe thead th {\n",
       "        text-align: right;\n",
       "    }\n",
       "</style>\n",
       "<table border=\"1\" class=\"dataframe\">\n",
       "  <thead>\n",
       "    <tr style=\"text-align: right;\">\n",
       "      <th></th>\n",
       "      <th>stars</th>\n",
       "      <th>ratings</th>\n",
       "      <th>discounts</th>\n",
       "      <th>prices</th>\n",
       "      <th>brand</th>\n",
       "      <th>energy_rating</th>\n",
       "      <th>capacity</th>\n",
       "      <th>max_spin_speed</th>\n",
       "    </tr>\n",
       "  </thead>\n",
       "  <tbody>\n",
       "    <tr>\n",
       "      <th>0</th>\n",
       "      <td>NaN</td>\n",
       "      <td>24,972 Ratings</td>\n",
       "      <td>23% off</td>\n",
       "      <td>₹18,790</td>\n",
       "      <td>Whirlpool</td>\n",
       "      <td>5</td>\n",
       "      <td>8 kg</td>\n",
       "      <td>740 rpm</td>\n",
       "    </tr>\n",
       "    <tr>\n",
       "      <th>1</th>\n",
       "      <td>NaN</td>\n",
       "      <td>11,841 Ratings</td>\n",
       "      <td>39% off</td>\n",
       "      <td>₹15,490</td>\n",
       "      <td>Panasonic</td>\n",
       "      <td>5</td>\n",
       "      <td>7 kg</td>\n",
       "      <td>700 rpm</td>\n",
       "    </tr>\n",
       "    <tr>\n",
       "      <th>2</th>\n",
       "      <td>NaN</td>\n",
       "      <td>24,972 Ratings</td>\n",
       "      <td>24% off</td>\n",
       "      <td>₹14,590</td>\n",
       "      <td>Whirlpool</td>\n",
       "      <td>5</td>\n",
       "      <td>7 kg</td>\n",
       "      <td>740 rpm</td>\n",
       "    </tr>\n",
       "    <tr>\n",
       "      <th>3</th>\n",
       "      <td>NaN</td>\n",
       "      <td>22,205 Ratings</td>\n",
       "      <td>25% off</td>\n",
       "      <td>₹12,890</td>\n",
       "      <td>Whirlpool</td>\n",
       "      <td>5</td>\n",
       "      <td>8.5 kg</td>\n",
       "      <td>1400 rpm</td>\n",
       "    </tr>\n",
       "    <tr>\n",
       "      <th>4</th>\n",
       "      <td>NaN</td>\n",
       "      <td>37,103 Ratings</td>\n",
       "      <td>19% off</td>\n",
       "      <td>₹11,490</td>\n",
       "      <td>LG</td>\n",
       "      <td>5</td>\n",
       "      <td>7 kg</td>\n",
       "      <td>1350 rpm</td>\n",
       "    </tr>\n",
       "  </tbody>\n",
       "</table>\n",
       "</div>"
      ],
      "text/plain": [
       "   stars          ratings discounts   prices      brand energy_rating  \\\n",
       "0    NaN  24,972 Ratings    23% off  ₹18,790  Whirlpool             5   \n",
       "1    NaN  11,841 Ratings    39% off  ₹15,490  Panasonic             5   \n",
       "2    NaN  24,972 Ratings    24% off  ₹14,590  Whirlpool             5   \n",
       "3    NaN  22,205 Ratings    25% off  ₹12,890  Whirlpool             5   \n",
       "4    NaN  37,103 Ratings    19% off  ₹11,490         LG             5   \n",
       "\n",
       "  capacity max_spin_speed  \n",
       "0     8 kg        740 rpm  \n",
       "1     7 kg        700 rpm  \n",
       "2     7 kg        740 rpm  \n",
       "3   8.5 kg       1400 rpm  \n",
       "4     7 kg       1350 rpm  "
      ]
     },
     "execution_count": 1,
     "metadata": {},
     "output_type": "execute_result"
    }
   ],
   "source": [
    "import pandas as pd\n",
    "df=pd.read_csv(\"washing_ma.csv\",index_col=0)\n",
    "df.head()"
   ]
  },
  {
   "cell_type": "code",
   "execution_count": 2,
   "id": "ead348a7-beea-47db-bca9-7a0982e7ef71",
   "metadata": {},
   "outputs": [],
   "source": [
    "df.drop(\"stars\",axis=1,inplace=True)"
   ]
  },
  {
   "cell_type": "code",
   "execution_count": 3,
   "id": "68aec074-782a-4af7-9f4b-e1d81c24146c",
   "metadata": {},
   "outputs": [
    {
     "data": {
      "text/html": [
       "<div>\n",
       "<style scoped>\n",
       "    .dataframe tbody tr th:only-of-type {\n",
       "        vertical-align: middle;\n",
       "    }\n",
       "\n",
       "    .dataframe tbody tr th {\n",
       "        vertical-align: top;\n",
       "    }\n",
       "\n",
       "    .dataframe thead th {\n",
       "        text-align: right;\n",
       "    }\n",
       "</style>\n",
       "<table border=\"1\" class=\"dataframe\">\n",
       "  <thead>\n",
       "    <tr style=\"text-align: right;\">\n",
       "      <th></th>\n",
       "      <th>ratings</th>\n",
       "      <th>discounts</th>\n",
       "      <th>prices</th>\n",
       "      <th>brand</th>\n",
       "      <th>energy_rating</th>\n",
       "      <th>capacity</th>\n",
       "      <th>max_spin_speed</th>\n",
       "    </tr>\n",
       "  </thead>\n",
       "  <tbody>\n",
       "    <tr>\n",
       "      <th>0</th>\n",
       "      <td>24,972 Ratings</td>\n",
       "      <td>23% off</td>\n",
       "      <td>₹18,790</td>\n",
       "      <td>Whirlpool</td>\n",
       "      <td>5</td>\n",
       "      <td>8 kg</td>\n",
       "      <td>740 rpm</td>\n",
       "    </tr>\n",
       "    <tr>\n",
       "      <th>1</th>\n",
       "      <td>11,841 Ratings</td>\n",
       "      <td>39% off</td>\n",
       "      <td>₹15,490</td>\n",
       "      <td>Panasonic</td>\n",
       "      <td>5</td>\n",
       "      <td>7 kg</td>\n",
       "      <td>700 rpm</td>\n",
       "    </tr>\n",
       "  </tbody>\n",
       "</table>\n",
       "</div>"
      ],
      "text/plain": [
       "           ratings discounts   prices      brand energy_rating capacity  \\\n",
       "0  24,972 Ratings    23% off  ₹18,790  Whirlpool             5     8 kg   \n",
       "1  11,841 Ratings    39% off  ₹15,490  Panasonic             5     7 kg   \n",
       "\n",
       "  max_spin_speed  \n",
       "0        740 rpm  \n",
       "1        700 rpm  "
      ]
     },
     "execution_count": 3,
     "metadata": {},
     "output_type": "execute_result"
    }
   ],
   "source": [
    "df.head(2)"
   ]
  },
  {
   "cell_type": "code",
   "execution_count": 4,
   "id": "9432688e-7942-4f2b-a7d1-7c228608046e",
   "metadata": {},
   "outputs": [
    {
     "data": {
      "text/plain": [
       "dtype('O')"
      ]
     },
     "execution_count": 4,
     "metadata": {},
     "output_type": "execute_result"
    }
   ],
   "source": [
    "df.ratings.dtype"
   ]
  },
  {
   "cell_type": "code",
   "execution_count": 5,
   "id": "cd5d5734-23b2-4d75-a930-0edd295cdc9a",
   "metadata": {},
   "outputs": [
    {
     "data": {
      "text/plain": [
       "np.int64(6)"
      ]
     },
     "execution_count": 5,
     "metadata": {},
     "output_type": "execute_result"
    }
   ],
   "source": [
    "df.ratings.isnull().sum()"
   ]
  },
  {
   "cell_type": "code",
   "execution_count": 6,
   "id": "fe54b562-7d6d-476b-906e-b3a481b4fb6a",
   "metadata": {},
   "outputs": [
    {
     "name": "stdout",
     "output_type": "stream",
     "text": [
      "<class 'pandas.core.frame.DataFrame'>\n",
      "Index: 419 entries, 0 to 477\n",
      "Data columns (total 7 columns):\n",
      " #   Column          Non-Null Count  Dtype \n",
      "---  ------          --------------  ----- \n",
      " 0   ratings         413 non-null    object\n",
      " 1   discounts       413 non-null    object\n",
      " 2   prices          419 non-null    object\n",
      " 3   brand           419 non-null    object\n",
      " 4   energy_rating   419 non-null    object\n",
      " 5   capacity        419 non-null    object\n",
      " 6   max_spin_speed  419 non-null    object\n",
      "dtypes: object(7)\n",
      "memory usage: 26.2+ KB\n"
     ]
    }
   ],
   "source": [
    "df.info()"
   ]
  },
  {
   "cell_type": "code",
   "execution_count": 7,
   "id": "1219b105-ab04-410d-9a88-67ae46ea07c2",
   "metadata": {},
   "outputs": [],
   "source": [
    "df.dropna(axis=0,inplace=True)"
   ]
  },
  {
   "cell_type": "code",
   "execution_count": 8,
   "id": "6bff07b5-e7d7-4a90-a948-f1499b2011b3",
   "metadata": {},
   "outputs": [
    {
     "name": "stdout",
     "output_type": "stream",
     "text": [
      "<class 'pandas.core.frame.DataFrame'>\n",
      "Index: 408 entries, 0 to 477\n",
      "Data columns (total 7 columns):\n",
      " #   Column          Non-Null Count  Dtype \n",
      "---  ------          --------------  ----- \n",
      " 0   ratings         408 non-null    object\n",
      " 1   discounts       408 non-null    object\n",
      " 2   prices          408 non-null    object\n",
      " 3   brand           408 non-null    object\n",
      " 4   energy_rating   408 non-null    object\n",
      " 5   capacity        408 non-null    object\n",
      " 6   max_spin_speed  408 non-null    object\n",
      "dtypes: object(7)\n",
      "memory usage: 25.5+ KB\n"
     ]
    }
   ],
   "source": [
    "df.info()"
   ]
  },
  {
   "cell_type": "code",
   "execution_count": 9,
   "id": "f3f16714-322d-4c81-b551-958e08c758c7",
   "metadata": {},
   "outputs": [],
   "source": [
    "#CHAINING TO REMOVE \",\" AND RATINGS STRING\n",
    "df[\"ratings\"]=df[\"ratings\"].str.replace(\",\",\"\").apply(lambda x:x.split(\" \")[0])"
   ]
  },
  {
   "cell_type": "code",
   "execution_count": 10,
   "id": "2ddb6914-0678-49ea-adbd-185766d48d2b",
   "metadata": {},
   "outputs": [
    {
     "data": {
      "text/plain": [
       "0    24972\n",
       "1    11841\n",
       "2    24972\n",
       "3    22205\n",
       "4    37103\n",
       "Name: ratings, dtype: object"
      ]
     },
     "execution_count": 10,
     "metadata": {},
     "output_type": "execute_result"
    }
   ],
   "source": [
    "df[\"ratings\"].head()"
   ]
  },
  {
   "cell_type": "code",
   "execution_count": 11,
   "id": "6dc933dd-690f-4633-b3e3-fdb58a5db84c",
   "metadata": {},
   "outputs": [],
   "source": [
    "df.ratings=df.ratings.astype(int)"
   ]
  },
  {
   "cell_type": "code",
   "execution_count": 12,
   "id": "03248f15-73d4-4395-9f3a-6a86ea1afde1",
   "metadata": {},
   "outputs": [
    {
     "data": {
      "text/plain": [
       "dtype('int64')"
      ]
     },
     "execution_count": 12,
     "metadata": {},
     "output_type": "execute_result"
    }
   ],
   "source": [
    "df.ratings.dtype"
   ]
  },
  {
   "cell_type": "code",
   "execution_count": 13,
   "id": "1a6d7f4d-948a-4a7b-951b-9bbaa7594c04",
   "metadata": {},
   "outputs": [],
   "source": [
    "#CHAINING TO REMOVE \"%\" AND CONVERTING TO INT\n",
    "df.discounts=df.discounts.apply(lambda x:x.split(\"%\")[0]).astype(int)"
   ]
  },
  {
   "cell_type": "code",
   "execution_count": 14,
   "id": "716d93d2-1349-4f48-a9ae-d598228054c7",
   "metadata": {},
   "outputs": [
    {
     "data": {
      "text/plain": [
       "0      23\n",
       "1      39\n",
       "2      24\n",
       "3      25\n",
       "4      19\n",
       "       ..\n",
       "471    23\n",
       "473    37\n",
       "474    23\n",
       "476    24\n",
       "477    38\n",
       "Name: discounts, Length: 408, dtype: int64"
      ]
     },
     "execution_count": 14,
     "metadata": {},
     "output_type": "execute_result"
    }
   ],
   "source": [
    "df.discounts"
   ]
  },
  {
   "cell_type": "code",
   "execution_count": 15,
   "id": "ec8cea4f-aef1-4d18-a185-0549c4442d5f",
   "metadata": {},
   "outputs": [],
   "source": [
    "#CHAINING TO REPLACE  \"₹\" AND \",\" WITH \"\" AND CONVERTING TO INT\n",
    "df.prices=df.prices.str.replace(\"₹\",\"\").str.replace(\",\",\"\").astype(int)"
   ]
  },
  {
   "cell_type": "code",
   "execution_count": 16,
   "id": "789946d6-d5af-4a7c-8268-35a11809e92e",
   "metadata": {},
   "outputs": [
    {
     "data": {
      "text/plain": [
       "0      18790\n",
       "1      15490\n",
       "2      14590\n",
       "3      12890\n",
       "4      11490\n",
       "       ...  \n",
       "471    14730\n",
       "473    22300\n",
       "474    23990\n",
       "476    21990\n",
       "477    12690\n",
       "Name: prices, Length: 408, dtype: int64"
      ]
     },
     "execution_count": 16,
     "metadata": {},
     "output_type": "execute_result"
    }
   ],
   "source": [
    "df.prices"
   ]
  },
  {
   "cell_type": "code",
   "execution_count": 17,
   "id": "99135311-eae1-4387-b2a4-3a9659bf78f9",
   "metadata": {},
   "outputs": [
    {
     "data": {
      "text/plain": [
       "array(['Whirlpool', 'Panasonic', 'LG', 'realme TechLife', 'SAMSUNG',\n",
       "       'Godrej', 'IFB', 'Thomson', 'Voltas Beko', 'MarQ by Flipkart',\n",
       "       'Haier', 'MOTOROLA', 'Electrolux', 'BOSCH', 'ONIDA', 'Lloyd',\n",
       "       'Midea', 'Sansui', 'BLACK+DECKER', 'Acer', 'TCL',\n",
       "       'White Westinghouse (Trademark by Electrolux)', 'Singer',\n",
       "       'Siemens', 'Galanz'], dtype=object)"
      ]
     },
     "execution_count": 17,
     "metadata": {},
     "output_type": "execute_result"
    }
   ],
   "source": [
    "df.brand.unique()"
   ]
  },
  {
   "cell_type": "markdown",
   "id": "6b8eb92a-6288-4fdd-b844-bed9cfd97c23",
   "metadata": {},
   "source": [
    "#BRAND COLUMN SEEMS PERFECT SO WE CAN LEAVE IT AS IT IS"
   ]
  },
  {
   "cell_type": "code",
   "execution_count": 18,
   "id": "e791a30d-fc59-44eb-89e7-60d0b697d7ca",
   "metadata": {},
   "outputs": [
    {
     "data": {
      "text/plain": [
       "array(['8 kg', '7 kg', '8.5 kg', '7.5 kg', '6.5 kg', '10 kg', '11 kg',\n",
       "       '9 kg', '6 kg', '14 kg', '7.5 Kg', '9.5 kg', '12 kg', '5.5 Kg',\n",
       "       'Tumble', '12 Kg', '8.5 Kg', '5.5 kg'], dtype=object)"
      ]
     },
     "execution_count": 18,
     "metadata": {},
     "output_type": "execute_result"
    }
   ],
   "source": [
    "df.capacity.unique()"
   ]
  },
  {
   "cell_type": "code",
   "execution_count": 19,
   "id": "020f0d46-6ff8-4c50-a654-a3ec4ad0039c",
   "metadata": {},
   "outputs": [
    {
     "data": {
      "text/plain": [
       "capacity\n",
       "8 kg      90\n",
       "7 kg      90\n",
       "9 kg      45\n",
       "6.5 kg    36\n",
       "7.5 kg    35\n",
       "10 kg     30\n",
       "8.5 kg    24\n",
       "6 kg      23\n",
       "11 kg     12\n",
       "14 kg      5\n",
       "9.5 kg     5\n",
       "12 kg      3\n",
       "12 Kg      3\n",
       "Tumble     3\n",
       "5.5 Kg     1\n",
       "7.5 Kg     1\n",
       "8.5 Kg     1\n",
       "5.5 kg     1\n",
       "Name: count, dtype: int64"
      ]
     },
     "execution_count": 19,
     "metadata": {},
     "output_type": "execute_result"
    }
   ],
   "source": [
    "df.capacity.value_counts()"
   ]
  },
  {
   "cell_type": "code",
   "execution_count": 20,
   "id": "b5144459-ec43-4abd-957c-5534d1a36c89",
   "metadata": {},
   "outputs": [
    {
     "data": {
      "text/plain": [
       "np.int64(405)"
      ]
     },
     "execution_count": 20,
     "metadata": {},
     "output_type": "execute_result"
    }
   ],
   "source": [
    "#REMOVING THE UNNECCESSARY DATA \"TUMBLE\" AND REMOVING UNIT \"KG\" TO VHANGE THE COLUMN NUMERIC\n",
    "MASK=df.capacity!=\"Tumble\"\n",
    "MASK.sum()"
   ]
  },
  {
   "cell_type": "code",
   "execution_count": 21,
   "id": "0c1af1ee-a5ba-4f6e-8303-398c6502cb12",
   "metadata": {},
   "outputs": [
    {
     "data": {
      "text/html": [
       "<div>\n",
       "<style scoped>\n",
       "    .dataframe tbody tr th:only-of-type {\n",
       "        vertical-align: middle;\n",
       "    }\n",
       "\n",
       "    .dataframe tbody tr th {\n",
       "        vertical-align: top;\n",
       "    }\n",
       "\n",
       "    .dataframe thead th {\n",
       "        text-align: right;\n",
       "    }\n",
       "</style>\n",
       "<table border=\"1\" class=\"dataframe\">\n",
       "  <thead>\n",
       "    <tr style=\"text-align: right;\">\n",
       "      <th></th>\n",
       "      <th>ratings</th>\n",
       "      <th>discounts</th>\n",
       "      <th>prices</th>\n",
       "      <th>brand</th>\n",
       "      <th>energy_rating</th>\n",
       "      <th>capacity</th>\n",
       "      <th>max_spin_speed</th>\n",
       "    </tr>\n",
       "  </thead>\n",
       "  <tbody>\n",
       "    <tr>\n",
       "      <th>0</th>\n",
       "      <td>24972</td>\n",
       "      <td>23</td>\n",
       "      <td>18790</td>\n",
       "      <td>Whirlpool</td>\n",
       "      <td>5</td>\n",
       "      <td>8 kg</td>\n",
       "      <td>740 rpm</td>\n",
       "    </tr>\n",
       "    <tr>\n",
       "      <th>1</th>\n",
       "      <td>11841</td>\n",
       "      <td>39</td>\n",
       "      <td>15490</td>\n",
       "      <td>Panasonic</td>\n",
       "      <td>5</td>\n",
       "      <td>7 kg</td>\n",
       "      <td>700 rpm</td>\n",
       "    </tr>\n",
       "    <tr>\n",
       "      <th>2</th>\n",
       "      <td>24972</td>\n",
       "      <td>24</td>\n",
       "      <td>14590</td>\n",
       "      <td>Whirlpool</td>\n",
       "      <td>5</td>\n",
       "      <td>7 kg</td>\n",
       "      <td>740 rpm</td>\n",
       "    </tr>\n",
       "    <tr>\n",
       "      <th>3</th>\n",
       "      <td>22205</td>\n",
       "      <td>25</td>\n",
       "      <td>12890</td>\n",
       "      <td>Whirlpool</td>\n",
       "      <td>5</td>\n",
       "      <td>8.5 kg</td>\n",
       "      <td>1400 rpm</td>\n",
       "    </tr>\n",
       "    <tr>\n",
       "      <th>4</th>\n",
       "      <td>37103</td>\n",
       "      <td>19</td>\n",
       "      <td>11490</td>\n",
       "      <td>LG</td>\n",
       "      <td>5</td>\n",
       "      <td>7 kg</td>\n",
       "      <td>1350 rpm</td>\n",
       "    </tr>\n",
       "  </tbody>\n",
       "</table>\n",
       "</div>"
      ],
      "text/plain": [
       "   ratings  discounts  prices      brand energy_rating capacity max_spin_speed\n",
       "0    24972         23   18790  Whirlpool             5     8 kg        740 rpm\n",
       "1    11841         39   15490  Panasonic             5     7 kg        700 rpm\n",
       "2    24972         24   14590  Whirlpool             5     7 kg        740 rpm\n",
       "3    22205         25   12890  Whirlpool             5   8.5 kg       1400 rpm\n",
       "4    37103         19   11490         LG             5     7 kg       1350 rpm"
      ]
     },
     "execution_count": 21,
     "metadata": {},
     "output_type": "execute_result"
    }
   ],
   "source": [
    "df2=df[MASK]\n",
    "df2.head()"
   ]
  },
  {
   "cell_type": "code",
   "execution_count": 22,
   "id": "fea70b29-eee1-43e3-ad0b-07adb2df22fb",
   "metadata": {},
   "outputs": [
    {
     "name": "stderr",
     "output_type": "stream",
     "text": [
      "C:\\Users\\vamsi\\AppData\\Local\\Temp\\ipykernel_17008\\2663149064.py:1: SettingWithCopyWarning: \n",
      "A value is trying to be set on a copy of a slice from a DataFrame.\n",
      "Try using .loc[row_indexer,col_indexer] = value instead\n",
      "\n",
      "See the caveats in the documentation: https://pandas.pydata.org/pandas-docs/stable/user_guide/indexing.html#returning-a-view-versus-a-copy\n",
      "  df2.capacity=df2.loc[:,\"capacity\"].apply(lambda x:x.split(\" \")[0]).astype(float)\n"
     ]
    }
   ],
   "source": [
    "df2.capacity=df2.loc[:,\"capacity\"].apply(lambda x:x.split(\" \")[0]).astype(float)"
   ]
  },
  {
   "cell_type": "code",
   "execution_count": 23,
   "id": "0d65c66c-5575-4fe7-998c-2cd134e4b926",
   "metadata": {},
   "outputs": [
    {
     "data": {
      "text/plain": [
       "0       8.0\n",
       "1       7.0\n",
       "2       7.0\n",
       "3       8.5\n",
       "4       7.0\n",
       "       ... \n",
       "470     8.0\n",
       "471     6.5\n",
       "473     8.0\n",
       "476     7.0\n",
       "477    10.0\n",
       "Name: capacity, Length: 405, dtype: float64"
      ]
     },
     "execution_count": 23,
     "metadata": {},
     "output_type": "execute_result"
    }
   ],
   "source": [
    "df2.capacity"
   ]
  },
  {
   "cell_type": "code",
   "execution_count": 24,
   "id": "7140efc7-3b5e-4080-9614-b3e6250b5b38",
   "metadata": {},
   "outputs": [
    {
     "data": {
      "text/plain": [
       "array(['740 rpm', '700 rpm', '1400 rpm', '1350 rpm', '720 rpm',\n",
       "       '1400 RPM', '720 RPM', '900 rpm', '680 rpm', '1000 rpm', '800 rpm',\n",
       "       '1200 RPM', '740 RPM', '1000 RPM', '650 rpm', '702 rpm',\n",
       "       '1200 rpm', '1300 rpm', '1300 RPM', '840 rpm', '1440 rpm',\n",
       "       '750 rpm', '700 RPM', '1450 rpm', '1350 RPM', 'Yes', '780 rpm',\n",
       "       '800 RPM', '705 rpm', '680 RPM', '750 RPM', '55 RPM', '1600 RPM',\n",
       "       '1440 RPM', '1600 rpm', '780 RPM', '1450 RPM', '600 RPM'],\n",
       "      dtype=object)"
      ]
     },
     "execution_count": 24,
     "metadata": {},
     "output_type": "execute_result"
    }
   ],
   "source": [
    "#CLEANING MAX_SPIN_SPEED\n",
    "df2.max_spin_speed.unique()"
   ]
  },
  {
   "cell_type": "code",
   "execution_count": 28,
   "id": "50460d22-f846-4d49-9e11-5a167e6e28c7",
   "metadata": {
    "scrolled": true
   },
   "outputs": [
    {
     "name": "stderr",
     "output_type": "stream",
     "text": [
      "C:\\Users\\vamsi\\AppData\\Local\\Temp\\ipykernel_17008\\4093557451.py:4: SettingWithCopyWarning: \n",
      "A value is trying to be set on a copy of a slice from a DataFrame.\n",
      "Try using .loc[row_indexer,col_indexer] = value instead\n",
      "\n",
      "See the caveats in the documentation: https://pandas.pydata.org/pandas-docs/stable/user_guide/indexing.html#returning-a-view-versus-a-copy\n",
      "  df3[\"max_spin_speed\"]=df3.iloc[:,6].str.lower().apply(lambda x:x.split(\" \")[0]).astype(int)\n"
     ]
    },
    {
     "data": {
      "text/plain": [
       "0       740\n",
       "1       700\n",
       "2       740\n",
       "3      1400\n",
       "4      1350\n",
       "       ... \n",
       "470     750\n",
       "471    1450\n",
       "473     680\n",
       "476     720\n",
       "477    1350\n",
       "Name: max_spin_speed, Length: 404, dtype: int64"
      ]
     },
     "execution_count": 28,
     "metadata": {},
     "output_type": "execute_result"
    }
   ],
   "source": [
    "#REMOVING \"YES\" ROWS AND CONVERTS STRING TO LOWER AND THEN CONVERTS INTO INTEGER\n",
    "mask=df2.max_spin_speed!=\"Yes\"\n",
    "df3=df2[mask]\n",
    "df3[\"max_spin_speed\"]=df3.iloc[:,6].str.lower().apply(lambda x:x.split(\" \")[0]).astype(int)\n",
    "df3.max_spin_speed"
   ]
  },
  {
   "cell_type": "code",
   "execution_count": 30,
   "id": "5466c05d-3a68-4fc7-915e-2d100b469eef",
   "metadata": {},
   "outputs": [
    {
     "name": "stdout",
     "output_type": "stream",
     "text": [
      "<class 'pandas.core.frame.DataFrame'>\n",
      "Index: 404 entries, 0 to 477\n",
      "Data columns (total 7 columns):\n",
      " #   Column          Non-Null Count  Dtype  \n",
      "---  ------          --------------  -----  \n",
      " 0   ratings         404 non-null    int64  \n",
      " 1   discounts       404 non-null    int64  \n",
      " 2   prices          404 non-null    int64  \n",
      " 3   brand           404 non-null    object \n",
      " 4   energy_rating   404 non-null    object \n",
      " 5   capacity        404 non-null    float64\n",
      " 6   max_spin_speed  404 non-null    int64  \n",
      "dtypes: float64(1), int64(4), object(2)\n",
      "memory usage: 25.2+ KB\n"
     ]
    }
   ],
   "source": [
    "df3.info()"
   ]
  },
  {
   "cell_type": "code",
   "execution_count": 36,
   "id": "73cdd471-5a32-4433-8d56-80e87339ceb5",
   "metadata": {},
   "outputs": [
    {
     "name": "stderr",
     "output_type": "stream",
     "text": [
      "C:\\Users\\vamsi\\AppData\\Local\\Temp\\ipykernel_17008\\2172556392.py:1: SettingWithCopyWarning: \n",
      "A value is trying to be set on a copy of a slice from a DataFrame.\n",
      "Try using .loc[row_indexer,col_indexer] = value instead\n",
      "\n",
      "See the caveats in the documentation: https://pandas.pydata.org/pandas-docs/stable/user_guide/indexing.html#returning-a-view-versus-a-copy\n",
      "  df3.energy_rating=df3.energy_rating.astype(int)\n"
     ]
    }
   ],
   "source": [
    "df3.energy_rating=df3.energy_rating.astype(int)"
   ]
  },
  {
   "cell_type": "code",
   "execution_count": 37,
   "id": "810a9291-e1fa-4c16-b96b-ac1f3068aae1",
   "metadata": {},
   "outputs": [
    {
     "name": "stdout",
     "output_type": "stream",
     "text": [
      "<class 'pandas.core.frame.DataFrame'>\n",
      "Index: 404 entries, 0 to 477\n",
      "Data columns (total 7 columns):\n",
      " #   Column          Non-Null Count  Dtype  \n",
      "---  ------          --------------  -----  \n",
      " 0   ratings         404 non-null    int64  \n",
      " 1   discounts       404 non-null    int64  \n",
      " 2   prices          404 non-null    int64  \n",
      " 3   brand           404 non-null    object \n",
      " 4   energy_rating   404 non-null    int64  \n",
      " 5   capacity        404 non-null    float64\n",
      " 6   max_spin_speed  404 non-null    int64  \n",
      "dtypes: float64(1), int64(5), object(1)\n",
      "memory usage: 25.2+ KB\n"
     ]
    }
   ],
   "source": [
    "df3.info()"
   ]
  },
  {
   "cell_type": "code",
   "execution_count": 38,
   "id": "81675986-ded7-42d5-a7a8-8076f6f30c88",
   "metadata": {},
   "outputs": [
    {
     "data": {
      "text/html": [
       "<div>\n",
       "<style scoped>\n",
       "    .dataframe tbody tr th:only-of-type {\n",
       "        vertical-align: middle;\n",
       "    }\n",
       "\n",
       "    .dataframe tbody tr th {\n",
       "        vertical-align: top;\n",
       "    }\n",
       "\n",
       "    .dataframe thead th {\n",
       "        text-align: right;\n",
       "    }\n",
       "</style>\n",
       "<table border=\"1\" class=\"dataframe\">\n",
       "  <thead>\n",
       "    <tr style=\"text-align: right;\">\n",
       "      <th></th>\n",
       "      <th>ratings</th>\n",
       "      <th>discounts</th>\n",
       "      <th>prices</th>\n",
       "      <th>brand</th>\n",
       "      <th>energy_rating</th>\n",
       "      <th>capacity</th>\n",
       "      <th>max_spin_speed</th>\n",
       "    </tr>\n",
       "  </thead>\n",
       "  <tbody>\n",
       "    <tr>\n",
       "      <th>0</th>\n",
       "      <td>24972</td>\n",
       "      <td>23</td>\n",
       "      <td>18790</td>\n",
       "      <td>Whirlpool</td>\n",
       "      <td>5</td>\n",
       "      <td>8.0</td>\n",
       "      <td>740</td>\n",
       "    </tr>\n",
       "    <tr>\n",
       "      <th>1</th>\n",
       "      <td>11841</td>\n",
       "      <td>39</td>\n",
       "      <td>15490</td>\n",
       "      <td>Panasonic</td>\n",
       "      <td>5</td>\n",
       "      <td>7.0</td>\n",
       "      <td>700</td>\n",
       "    </tr>\n",
       "    <tr>\n",
       "      <th>2</th>\n",
       "      <td>24972</td>\n",
       "      <td>24</td>\n",
       "      <td>14590</td>\n",
       "      <td>Whirlpool</td>\n",
       "      <td>5</td>\n",
       "      <td>7.0</td>\n",
       "      <td>740</td>\n",
       "    </tr>\n",
       "    <tr>\n",
       "      <th>3</th>\n",
       "      <td>22205</td>\n",
       "      <td>25</td>\n",
       "      <td>12890</td>\n",
       "      <td>Whirlpool</td>\n",
       "      <td>5</td>\n",
       "      <td>8.5</td>\n",
       "      <td>1400</td>\n",
       "    </tr>\n",
       "    <tr>\n",
       "      <th>4</th>\n",
       "      <td>37103</td>\n",
       "      <td>19</td>\n",
       "      <td>11490</td>\n",
       "      <td>LG</td>\n",
       "      <td>5</td>\n",
       "      <td>7.0</td>\n",
       "      <td>1350</td>\n",
       "    </tr>\n",
       "  </tbody>\n",
       "</table>\n",
       "</div>"
      ],
      "text/plain": [
       "   ratings  discounts  prices      brand  energy_rating  capacity  \\\n",
       "0    24972         23   18790  Whirlpool              5       8.0   \n",
       "1    11841         39   15490  Panasonic              5       7.0   \n",
       "2    24972         24   14590  Whirlpool              5       7.0   \n",
       "3    22205         25   12890  Whirlpool              5       8.5   \n",
       "4    37103         19   11490         LG              5       7.0   \n",
       "\n",
       "   max_spin_speed  \n",
       "0             740  \n",
       "1             700  \n",
       "2             740  \n",
       "3            1400  \n",
       "4            1350  "
      ]
     },
     "execution_count": 38,
     "metadata": {},
     "output_type": "execute_result"
    }
   ],
   "source": [
    "df3.head()"
   ]
  },
  {
   "cell_type": "code",
   "execution_count": 39,
   "id": "9bfc366e-7da3-4ed6-83b1-bdc6f981458d",
   "metadata": {},
   "outputs": [],
   "source": [
    "df3.to_csv(\"cleaned_wash_mac.csv\")"
   ]
  },
  {
   "cell_type": "code",
   "execution_count": null,
   "id": "bbcf054b-764a-438a-ba16-bbe968d6059b",
   "metadata": {},
   "outputs": [],
   "source": []
  }
 ],
 "metadata": {
  "kernelspec": {
   "display_name": "Python 3 (ipykernel)",
   "language": "python",
   "name": "python3"
  },
  "language_info": {
   "codemirror_mode": {
    "name": "ipython",
    "version": 3
   },
   "file_extension": ".py",
   "mimetype": "text/x-python",
   "name": "python",
   "nbconvert_exporter": "python",
   "pygments_lexer": "ipython3",
   "version": "3.12.4"
  }
 },
 "nbformat": 4,
 "nbformat_minor": 5
}
